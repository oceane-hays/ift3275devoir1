{
  "nbformat": 4,
  "nbformat_minor": 0,
  "metadata": {
    "colab": {
      "provenance": [],
      "collapsed_sections": [
        "oEXdt1rxuIjF",
        "jozfd3uw66g8",
        "C2FkJOvN5y2P",
        "ARJqSlSig07Q",
        "GlvEBsQ0A3PQ",
        "I-7AyF9-BCWE",
        "TKqNjg04hrKM",
        "-Bz7TOnZjN6_",
        "57KneUWwiYD0",
        "Vre7oiuLEGfq"
      ]
    },
    "kernelspec": {
      "name": "python3",
      "display_name": "Python 3"
    },
    "language_info": {
      "name": "python"
    }
  },
  "cells": [
    {
      "cell_type": "markdown",
      "source": [
        "# Devoir 1\n",
        "\n",
        "**Introduction à la sécurité informatique**\n",
        "\n",
        "**IFT3725 - IFT6271- Automne 2024**"
      ],
      "metadata": {
        "id": "w4Ja6PyvbZUp"
      }
    },
    {
      "cell_type": "markdown",
      "source": [
        "# Consignes\n",
        "\n"
      ],
      "metadata": {
        "id": "oEXdt1rxuIjF"
      }
    },
    {
      "cell_type": "markdown",
      "source": [
        "## Consignes de remise"
      ],
      "metadata": {
        "id": "jozfd3uw66g8"
      }
    },
    {
      "cell_type": "markdown",
      "source": [
        "Le  devoir  doit être fait en équipe de deux ou trois. Les équipes peuvent contenir des étudiant gradué et sous graduées. Le rapport doit être remis en format pdf accompagné d’un fichier Python formaté de façon approprié. En plus de nécessiter une réponse correcte, la qualité de la présentation, la clarté des explications et l'originalité des solutions contribueront aussi à la note accordée."
      ],
      "metadata": {
        "id": "esxZWcRUu21d"
      }
    },
    {
      "cell_type": "markdown",
      "source": [
        "## Mise à jour"
      ],
      "metadata": {
        "id": "C2FkJOvN5y2P"
      }
    },
    {
      "cell_type": "markdown",
      "source": [
        "* (16 octobre) Les équipe mixte sont accepté"
      ],
      "metadata": {
        "id": "htccr-F_6feu"
      }
    },
    {
      "cell_type": "markdown",
      "source": [
        "## Encodage du texte"
      ],
      "metadata": {
        "id": "ARJqSlSig07Q"
      }
    },
    {
      "cell_type": "markdown",
      "source": [
        "Dans ce document l'encodage des **charactères** utilise le standard [UTF-8](https://fr.wikipedia.org/wiki/UTF-8). UTF-8 est natif en Python et ```ord(c)``` retourne le numéro d'un charactère ```c``` corespondant a la [table UTF-8](https://www.utf8-chartable.de/unicode-utf8-table.pl?utf8=dec).\n",
        "\n",
        "**Exemple**\n",
        " ```\n",
        " ord(\"A\") = 65  = 01000001\n",
        " ord(\"é\") = 233 = 11101001\n",
        " ```\n",
        "\n",
        "Pour la question 1, l'encodage d'un message (une chaine de charactère) dans un nombre entier se fait par une simple concaténation du code [UTF-8 binaire](https://www.utf8-chartable.de/unicode-utf8-table.pl?utf8=bin) des charactères du message. La chaine de bit est ensuite interprété directement comme un entier.\n",
        "\n",
        "**Exemple**\n",
        "\n",
        "```\n",
        "“Alain Tapp”\n",
        "= [A,l,a,i,n,_,T,a,p,p]\n",
        "= [65, 108, 97, 105, 110, 32, 84, 97, 112, 112]\n",
        "= [01000001, 01101100, 01100001, 01101001, 01101110,\n",
        "   00100000, 01010100, 01100001, 01110000, 01110000]\n",
        "= 01000001011011000110000101101001011011100010000001010100011000010111000001110000\n",
        "= 308953089009066937774192\n",
        "```\n"
      ],
      "metadata": {
        "id": "LtuBbaI4u__F"
      }
    },
    {
      "cell_type": "markdown",
      "source": [
        "### Code Python"
      ],
      "metadata": {
        "id": "GlvEBsQ0A3PQ"
      }
    },
    {
      "cell_type": "code",
      "source": [
        "import math\n",
        "import random as rnd\n",
        "import numpy as np\n",
        "import requests\n",
        "from collections import Counter"
      ],
      "metadata": {
        "id": "CoeK18GKDb-L"
      },
      "execution_count": null,
      "outputs": []
    },
    {
      "cell_type": "code",
      "execution_count": null,
      "metadata": {
        "id": "u3SAZsrt4WMw"
      },
      "outputs": [],
      "source": [
        "# convert string to list of integer\n",
        "def str_to_int_list(x):\n",
        "  z = [ord(a) for a in x  ]\n",
        "  for x in z:\n",
        "    if x > 256:\n",
        "      print(x)\n",
        "      return False\n",
        "  return z\n",
        "\n",
        "# convert a strint to an integer\n",
        "def str_to_int(x):\n",
        "  x = str_to_int_list(x)\n",
        "  if x == False:\n",
        "    print(\"Le text n'est pas compatible!\")\n",
        "    return False\n",
        "\n",
        "  res = 0\n",
        "  for a in x:\n",
        "    res = res * 256 + a\n",
        "  i = 0\n",
        "  res = \"\"\n",
        "  for a in x:\n",
        "    ci = \"{:08b}\".format(a )\n",
        "    if len(ci)>8:\n",
        "      print()\n",
        "      print(\"long\",a)\n",
        "      print()\n",
        "    res = res + ci\n",
        "  res = eval(\"0b\"+res)\n",
        "  return res"
      ]
    },
    {
      "cell_type": "markdown",
      "source": [
        "### Examples Python"
      ],
      "metadata": {
        "id": "I-7AyF9-BCWE"
      }
    },
    {
      "cell_type": "code",
      "source": [
        "cs = {\"A\",\"é\",\"!\"}\n",
        "for c in cs:\n",
        "  print(c,\"=\",ord(c),\"=\",\"{:08b}\".format(ord(c) ))"
      ],
      "metadata": {
        "colab": {
          "base_uri": "https://localhost:8080/"
        },
        "id": "AdnpsMxLAA3E",
        "outputId": "04dff14e-94b3-4387-9b0f-b68ebeb60938"
      },
      "execution_count": null,
      "outputs": [
        {
          "output_type": "stream",
          "name": "stdout",
          "text": [
            "! = 33 = 00100001\n",
            "é = 233 = 11101001\n",
            "A = 65 = 01000001\n"
          ]
        }
      ]
    },
    {
      "cell_type": "code",
      "source": [
        "M=\"Alain Tapp\"\n",
        "print(M)\n",
        "print(list(M))\n",
        "print(list(map(ord,list(M))))\n",
        "print(str_to_int(\"Alain Tapp\"))"
      ],
      "metadata": {
        "colab": {
          "base_uri": "https://localhost:8080/"
        },
        "id": "WP14U5jdBAJa",
        "outputId": "a18053a5-07bf-4691-8000-7bdec8a030e9"
      },
      "execution_count": null,
      "outputs": [
        {
          "output_type": "stream",
          "name": "stdout",
          "text": [
            "Alain Tapp\n",
            "['A', 'l', 'a', 'i', 'n', ' ', 'T', 'a', 'p', 'p']\n",
            "[65, 108, 97, 105, 110, 32, 84, 97, 112, 112]\n",
            "308953089009066937774192\n"
          ]
        }
      ]
    },
    {
      "cell_type": "markdown",
      "source": [
        "# Question 1"
      ],
      "metadata": {
        "id": "TKqNjg04hrKM"
      }
    },
    {
      "cell_type": "markdown",
      "source": [
        "Il faut briser RSA-textbook dans deux contexte different. Dans chaque cas une clé publique $(N,e)$  et un cryptogramme $C$ vous est fourni. Vous devez produire le message clair $M$ qui a été chiffré pour produire le cryptogramme $C$.\n",
        "\n",
        "$ C = M^e \\ \\mbox{mod} \\ N $\n",
        "\n",
        "**Question 1.1**\n",
        "\n",
        "Le nom d'un personage célèbre a été chiffré avec RSA-textbook. Vous devez me dire de qui il s'agit.\n",
        "\n",
        "**Question 1.2**\n",
        "\n",
        "Le nom d'un auteur célèbre a été chiffré avec RSA-textbook. Vous devez me dire de qui il s'agit.\n",
        "\n",
        "\n",
        "La question 1.2 est similaire a la question 1.1 mais est significativement plus difficile.\n"
      ],
      "metadata": {
        "id": "sTT1FeFfuCoN"
      }
    },
    {
      "cell_type": "markdown",
      "source": [
        "## Code Python"
      ],
      "metadata": {
        "id": "-Bz7TOnZjN6_"
      }
    },
    {
      "cell_type": "code",
      "source": [
        "# exponentiation modulaire\n",
        "def modular_pow(base, exponent, modulus):\n",
        "    result = 1\n",
        "    base = base % modulus\n",
        "    while exponent > 0:\n",
        "        if (exponent % 2 == 1):\n",
        "            result = (result * base) % modulus\n",
        "        exponent = exponent >> 1\n",
        "        base = (base * base) % modulus\n",
        "    return result\n",
        "\n",
        "def egcd(a, b):\n",
        "    if a == 0:\n",
        "        return (b, 0, 1)\n",
        "    else:\n",
        "        g, y, x = egcd(b % a, a)\n",
        "        return (g, x - (b // a) * y, y)\n",
        "\n",
        "# inverse multiplicatif de a modulo m\n",
        "def modinv(a, m):\n",
        "    g, x, y = egcd(a, m)\n",
        "    if g != 1:\n",
        "        raise Exception(\"Pas d'inverse multiplicatif\")\n",
        "    else:\n",
        "      return x % m"
      ],
      "metadata": {
        "id": "LyD65bp5yunx"
      },
      "execution_count": null,
      "outputs": []
    },
    {
      "cell_type": "markdown",
      "source": [
        "##  Clé publique Question 1.1"
      ],
      "metadata": {
        "id": "57KneUWwiYD0"
      }
    },
    {
      "cell_type": "code",
      "source": [
        "# Clé publique Question 1.1\n",
        "N = 143516336909281815529104150147210248002789712761086900059705342103220782674046289232082435789563283739805745579873432846680889870107881916428241419520831648173912486431640350000860973935300056089286158737579357805977019329557985454934146282550582942463631245697702998511180787007029139561933433550242693047924440388550983498690080764882934101834908025314861468726253425554334760146923530403924523372477686668752567287060201407464630943218236132423772636675182977585707596016011556917504759131444160240252733282969534092869685338931241204785750519748505439039801119762049796085719106591562217115679236583\n",
        "e = 3\n",
        "\n",
        "# Cryptogramme 1.1\n",
        "C = 1101510739796100601351050380607502904616643795400781908795311659278941419415375"
      ],
      "metadata": {
        "id": "eVBgtX39Nirs"
      },
      "execution_count": null,
      "outputs": []
    },
    {
      "cell_type": "markdown",
      "source": [
        "##  Clé publique Question 1.2"
      ],
      "metadata": {
        "id": "Vre7oiuLEGfq"
      }
    },
    {
      "cell_type": "code",
      "source": [
        "# Clé publique Question 1.2\n",
        "N = 172219604291138178634924980176652297603347655313304280071646410523864939208855547078498922947475940487766894695848119416017067844129458299713889703424997977808694983717968420001033168722360067307143390485095229367172423195469582545920975539060699530956357494837243598213416944408434967474317474605697904676813343577310719430442085422937057220239881971046349315235043163226355302567726074269720408051461805113819456513196492192727498270702594217800502904761235711809203123842506621973488494670663483187137290546241477681096402483981619592515049062514180404818608764516997842633077157249806627735448350463\n",
        "e = 173\n",
        "\n",
        "# Cryptogramme 1.2\n",
        "C = 25782248377669919648522417068734999301629843637773352461224686415010617355125387994732992745416621651531340476546870510355165303752005023118034265203513423674356501046415839977013701924329378846764632894673783199644549307465659236628983151796254371046814548224159604302737470578495440769408253954186605567492864292071545926487199114612586510433943420051864924177673243381681206265372333749354089535394870714730204499162577825526329944896454450322256563485123081116679246715959621569603725379746870623049834475932535184196208270713675357873579469122917915887954980541308199688932248258654715380981800909"
      ],
      "metadata": {
        "id": "HEpsW_cTx5O4"
      },
      "execution_count": null,
      "outputs": []
    },
    {
      "cell_type": "markdown",
      "source": [
        "# Question 2"
      ],
      "metadata": {
        "id": "6D5vuz1UiuCS"
      }
    },
    {
      "cell_type": "markdown",
      "source": [
        "Pour la question 2 vous devez produire un programme Python qui brise le code par substitioution décrit et implémanté dans les cellules suivantes. Votre programme sera évaluer automatiquement avec plusieurs example de message chiffré. Tout les messages seront en format texte et en langue francaise.\n",
        "\n",
        "Le chiffrement par substitution permet des clé de substitution monoalphabétique et bi alphabétique. Si un paire de symbole est dans la clé on utilise la substition pour la paire et sinon on utilise la substitution pour chaque lettre.\n",
        "\n",
        "Les **caractères** utilisent l'encodage [UTF-8](https://en.wikipedia.org/wiki/UTF-8) et les **bicaractères** sont des pair de caractère. L'ensemble de symboles est formé par l'union des caractères et des bicaractères. Chaque symbole est chiffré par une séquance de 8 bits. Il est important que chaque symbole soit associé a une s.quance distincte. La clé est formé par un dictionaire réalisant les substitutions et la clé ne peut avoir plus de 256 substitutions (étant donné l'encodage sur 8 bits).\n",
        "\n",
        "Vous trouverez une bonne quantité de texte en langue francaise sur le site du [Project Gutenberg](https://www.gutenberg.org/).\n",
        "\n",
        "**Example de livre en format texte (UTF8, .txt)**\n",
        "\n",
        "* [Discours de la méthode (René Descartes)](https://www.gutenberg.org/ebooks/13846) [UTF-8](https://www.gutenberg.org/ebooks/13846.txt.utf-8)\n",
        "* [Candide, ou l'optimisme (Voltaire)](https://www.gutenberg.org/ebooks/4650) [UTF-8](https://www.gutenberg.org/ebooks/4650.txt.utf-8)\n",
        "\n",
        "**Unisymboles et Bisymboles**\n",
        "\n",
        "Nous avons fixer les caractères et les bicaractères pour former un ensemble de 256 symboles.\n",
        "\n",
        "**Clé secrètes**\n",
        "\n",
        "Une clé est un dictionnaire pour les 256 symboles ou chaque symbole est associé à une unique séquence de 8 bits. On peut choisir la clé de facon aléatoire et uniforme.\n"
      ],
      "metadata": {
        "id": "q2Fu4dE2yCVY"
      }
    },
    {
      "cell_type": "markdown",
      "source": [
        "## Corpus de textes"
      ],
      "metadata": {
        "id": "rYKqBS20nFbl"
      }
    },
    {
      "cell_type": "code",
      "source": [
        "def cut_string_into_pairs(text):\n",
        "  pairs = []\n",
        "  for i in range(0, len(text) - 1, 2):\n",
        "    pairs.append(text[i:i + 2])\n",
        "  if len(text) % 2 != 0:\n",
        "    pairs.append(text[-1] + '_')  # Add a placeholder if the string has an odd number of characters\n",
        "  return pairs\n",
        "\n",
        "def load_text_from_web(url):\n",
        "  try:\n",
        "    response = requests.get(url)\n",
        "    response.raise_for_status()  # Raise an exception for bad status codes\n",
        "    return response.text\n",
        "  except requests.exceptions.RequestException as e:\n",
        "    print(f\"An error occurred while loading the text: {e}\")\n",
        "    return None\n",
        "\n",
        "url = \"https://www.gutenberg.org/ebooks/13846.txt.utf-8\"  # Example URL (replace with your desired URL)\n",
        "corpus = load_text_from_web(url)\n",
        "url = \"https://www.gutenberg.org/ebooks/4650.txt.utf-8\"  # Example URL (replace with your desired URL)\n",
        "corpus = corpus + load_text_from_web(url)"
      ],
      "metadata": {
        "id": "FglH0ctUnoz_"
      },
      "execution_count": null,
      "outputs": []
    },
    {
      "cell_type": "code",
      "source": [
        "# Example\n",
        "M = corpus[10000:10500]\n",
        "print(M)"
      ],
      "metadata": {
        "colab": {
          "base_uri": "https://localhost:8080/"
        },
        "id": "rAOn7VcTGUNo",
        "outputId": "015df603-5b2a-4bde-cf10-8e84dc99a192"
      },
      "execution_count": null,
      "outputs": [
        {
          "output_type": "stream",
          "name": "stdout",
          "text": [
            "es, les nations sur les nations, les vérités sur\r\n",
            "les erreurs, les erreurs sur les vérités. Tout se tient dans l'univers;\r\n",
            "mais qui pourrait tracer la ligne? On peut du moins entrevoir ce rapport\r\n",
            "général; on peut dire que, sans cette foule d'erreurs qui ont inondé le\r\n",
            "monde, Descartes peut-être n'eût point trouvé la route de la vérité.\r\n",
            "Ainsi chaque philosophe en s'égarant avançoit le terme. Mais, laissant\r\n",
            "là les temps trop reculés, je veux chercher dans le siècle même de\r\n",
            "Descartes, ou dans c\n"
          ]
        }
      ]
    },
    {
      "cell_type": "markdown",
      "source": [
        "## Unisymboles et Bisymboles"
      ],
      "metadata": {
        "id": "uXZA2v2uHESO"
      }
    },
    {
      "cell_type": "code",
      "source": [
        "url = \"https://www.gutenberg.org/ebooks/13846.txt.utf-8\"  # Example URL (replace with your desired URL)\n",
        "text = load_text_from_web(url)\n",
        "url = \"https://www.gutenberg.org/ebooks/4650.txt.utf-8\"  # Example URL (replace with your desired URL)\n",
        "text = text + load_text_from_web(url)\n",
        "\n",
        "caracteres = list(set(list(text)))\n",
        "nb_caracteres = len(caracteres)\n",
        "nb_bicaracteres = 256-nb_caracteres\n",
        "bicaracteres = [item for item, _ in Counter(cut_string_into_pairs(text)).most_common(nb_bicaracteres)]\n",
        "symboles = caracteres + bicaracteres\n",
        "nb_symboles = len(symboles)\n",
        "\n",
        "print(\"Taille du corpus en caractères:\",len(text))\n",
        "print(\"Nombre de charactères:\",nb_caracteres)\n",
        "print(\"Caractères:\",caracteres)\n",
        "print(\"Nombre de bicharactères:\",256 - nb_caracteres)\n",
        "print(\"Bicaractères:\",bicaracteres)\n",
        "print(\"Nombre de symboles:\",nb_symboles)\n",
        "print(\"Symboles:\",symboles)"
      ],
      "metadata": {
        "colab": {
          "base_uri": "https://localhost:8080/"
        },
        "id": "EwVHpBDBGY_q",
        "outputId": "5e164304-b0da-4bce-a148-c918abd091f1"
      },
      "execution_count": null,
      "outputs": [
        {
          "output_type": "stream",
          "name": "stdout",
          "text": [
            "Taille du corpus en caractères: 936779\n",
            "Nombre de charactères: 115\n",
            "Caractères: ['b', 'j', '\\r', 'J', '”', ')', 'Â', 'É', 'ê', '5', 't', '9', 'Y', '%', 'N', 'B', 'V', '\\ufeff', 'Ê', '?', '’', 'i', ':', 's', 'C', 'â', 'ï', 'W', 'y', 'p', 'D', '—', '«', 'º', 'A', '3', 'n', '0', 'q', '4', 'e', 'T', 'È', '$', 'U', 'v', '»', 'l', 'P', 'X', 'Z', 'À', 'ç', 'u', '…', 'î', 'L', 'k', 'E', 'R', '2', '_', '8', 'é', 'O', 'Î', '‘', 'a', 'F', 'H', 'c', '[', '(', \"'\", 'è', 'I', '/', '!', ' ', '°', 'S', '•', '#', 'x', 'à', 'g', '*', 'Q', 'w', '1', 'û', '7', 'G', 'm', '™', 'K', 'z', '\\n', 'o', 'ù', ',', 'r', ']', '.', 'M', 'Ç', '“', 'h', '-', 'f', 'ë', '6', ';', 'd', 'ô']\n",
            "Nombre de bicharactères: 141\n",
            "Bicaractères: ['e ', 's ', 't ', 'es', ' d', '\\r\\n', 'en', 'qu', ' l', 're', ' p', 'de', 'le', 'nt', 'on', ' c', ', ', ' e', 'ou', ' q', ' s', 'n ', 'ue', 'an', 'te', ' a', 'ai', 'se', 'it', 'me', 'is', 'oi', 'r ', 'er', ' m', 'ce', 'ne', 'et', 'in', 'ns', ' n', 'ur', 'i ', 'a ', 'eu', 'co', 'tr', 'la', 'ar', 'ie', 'ui', 'us', 'ut', 'il', ' t', 'pa', 'au', 'el', 'ti', 'st', 'un', 'em', 'ra', 'e,', 'so', 'or', 'l ', ' f', 'll', 'nd', ' j', 'si', 'ir', 'e\\r', 'ss', 'u ', 'po', 'ro', 'ri', 'pr', 's,', 'ma', ' v', ' i', 'di', ' r', 'vo', 'pe', 'to', 'ch', '. ', 've', 'nc', 'om', ' o', 'je', 'no', 'rt', 'à ', 'lu', \"'e\", 'mo', 'ta', 'as', 'at', 'io', 's\\r', 'sa', \"u'\", 'av', 'os', ' à', ' u', \"l'\", \"'a\", 'rs', 'pl', 'é ', '; ', 'ho', 'té', 'ét', 'fa', 'da', 'li', 'su', 't\\r', 'ée', 'ré', 'dé', 'ec', 'nn', 'mm', \"'i\", 'ca', 'uv', '\\n\\r', 'id', ' b', 'ni', 'bl']\n",
            "Nombre de symboles: 256\n",
            "Symboles: ['b', 'j', '\\r', 'J', '”', ')', 'Â', 'É', 'ê', '5', 't', '9', 'Y', '%', 'N', 'B', 'V', '\\ufeff', 'Ê', '?', '’', 'i', ':', 's', 'C', 'â', 'ï', 'W', 'y', 'p', 'D', '—', '«', 'º', 'A', '3', 'n', '0', 'q', '4', 'e', 'T', 'È', '$', 'U', 'v', '»', 'l', 'P', 'X', 'Z', 'À', 'ç', 'u', '…', 'î', 'L', 'k', 'E', 'R', '2', '_', '8', 'é', 'O', 'Î', '‘', 'a', 'F', 'H', 'c', '[', '(', \"'\", 'è', 'I', '/', '!', ' ', '°', 'S', '•', '#', 'x', 'à', 'g', '*', 'Q', 'w', '1', 'û', '7', 'G', 'm', '™', 'K', 'z', '\\n', 'o', 'ù', ',', 'r', ']', '.', 'M', 'Ç', '“', 'h', '-', 'f', 'ë', '6', ';', 'd', 'ô', 'e ', 's ', 't ', 'es', ' d', '\\r\\n', 'en', 'qu', ' l', 're', ' p', 'de', 'le', 'nt', 'on', ' c', ', ', ' e', 'ou', ' q', ' s', 'n ', 'ue', 'an', 'te', ' a', 'ai', 'se', 'it', 'me', 'is', 'oi', 'r ', 'er', ' m', 'ce', 'ne', 'et', 'in', 'ns', ' n', 'ur', 'i ', 'a ', 'eu', 'co', 'tr', 'la', 'ar', 'ie', 'ui', 'us', 'ut', 'il', ' t', 'pa', 'au', 'el', 'ti', 'st', 'un', 'em', 'ra', 'e,', 'so', 'or', 'l ', ' f', 'll', 'nd', ' j', 'si', 'ir', 'e\\r', 'ss', 'u ', 'po', 'ro', 'ri', 'pr', 's,', 'ma', ' v', ' i', 'di', ' r', 'vo', 'pe', 'to', 'ch', '. ', 've', 'nc', 'om', ' o', 'je', 'no', 'rt', 'à ', 'lu', \"'e\", 'mo', 'ta', 'as', 'at', 'io', 's\\r', 'sa', \"u'\", 'av', 'os', ' à', ' u', \"l'\", \"'a\", 'rs', 'pl', 'é ', '; ', 'ho', 'té', 'ét', 'fa', 'da', 'li', 'su', 't\\r', 'ée', 'ré', 'dé', 'ec', 'nn', 'mm', \"'i\", 'ca', 'uv', '\\n\\r', 'id', ' b', 'ni', 'bl']\n"
          ]
        }
      ]
    },
    {
      "cell_type": "code",
      "source": [
        "def gen_key(symboles):\n",
        "\n",
        "  l=len(symboles)\n",
        "  if l > 256:\n",
        "    return False\n",
        "\n",
        "  rnd.seed(1337)\n",
        "  int_keys = rnd.sample(list(range(l)),l)\n",
        "  dictionary = dict({})\n",
        "  for s,k in zip(symboles,int_keys):\n",
        "    dictionary[s]=\"{:08b}\".format(k )\n",
        "  return dictionary\n",
        "\n",
        "dictionaire = gen_key(symboles)\n",
        "print(\"Taille du dictionaire:\",len(dictionaire))\n",
        "print(dictionaire)"
      ],
      "metadata": {
        "colab": {
          "base_uri": "https://localhost:8080/"
        },
        "id": "0m3k53ppj0h6",
        "outputId": "85af2950-a4da-4783-fda3-98d76b640c53"
      },
      "execution_count": null,
      "outputs": [
        {
          "output_type": "stream",
          "name": "stdout",
          "text": [
            "Taille du dictionaire: 256\n",
            "{'b': '10111011', 'j': '10010010', '\\r': '10010101', 'J': '11111111', '”': '00101010', ')': '11000110', 'Â': '11010011', 'É': '01010101', 'ê': '01100010', '5': '10100010', 't': '11001010', '9': '01011100', 'Y': '11101011', '%': '01001110', 'N': '01100100', 'B': '10110010', 'V': '00110100', '\\ufeff': '11000010', 'Ê': '10101000', '?': '11011101', '’': '11101001', 'i': '01011101', ':': '00011011', 's': '01101100', 'C': '11010010', 'â': '11110110', 'ï': '01100110', 'W': '00010000', 'y': '10000001', 'p': '11110000', 'D': '10101011', '—': '01011001', '«': '01100111', 'º': '11011111', 'A': '11001101', '3': '10111100', 'n': '11001100', '0': '01001111', 'q': '10101001', '4': '00000100', 'e': '11010101', 'T': '01011010', 'È': '10011000', '$': '00011110', 'U': '01110101', 'v': '00111111', '»': '00101011', 'l': '11001011', 'P': '01010000', 'X': '10101101', 'Z': '10110000', 'À': '10011010', 'ç': '11111001', 'u': '11011011', '…': '01000011', 'î': '00110011', 'L': '10001100', 'k': '00010001', 'E': '10100011', 'R': '10000110', '2': '10011110', '_': '10010011', '8': '00001011', 'é': '00010010', 'O': '01101000', 'Î': '10100111', '‘': '11000011', 'a': '00001101', 'F': '10101100', 'H': '11011000', 'c': '11100110', '[': '00110010', '(': '10111000', \"'\": '00011010', 'è': '01001000', 'I': '10110111', '/': '01110011', '!': '10010001', ' ': '11001111', '°': '00000011', 'S': '10011100', '•': '11111000', '#': '01101110', 'x': '11111110', 'à': '00111010', 'g': '11000111', '*': '11000001', 'Q': '10001110', 'w': '10100101', '1': '11110010', 'û': '00110110', '7': '10101111', 'G': '00101110', 'm': '10000111', '™': '11000100', 'K': '10111001', 'z': '00101111', '\\n': '00001100', 'o': '01111110', 'ù': '11111101', ',': '01110100', 'r': '00000110', ']': '10000101', '.': '01111100', 'M': '10001010', 'Ç': '11010110', '“': '11101101', 'h': '11100010', '-': '01000001', 'f': '11001001', 'ë': '11111010', '6': '00100001', ';': '00001111', 'd': '11010001', 'ô': '10110001', 'e ': '00010100', 's ': '00110001', 't ': '01110000', 'es': '01000000', ' d': '11011100', '\\r\\n': '00100110', 'en': '01101101', 'qu': '11100000', ' l': '00001010', 're': '11001110', ' p': '01001001', 'de': '00100111', 'le': '00001110', 'nt': '01110110', 'on': '00101100', ' c': '00110000', ', ': '00001000', ' e': '10110110', 'ou': '00101101', ' q': '01010100', ' s': '01010110', 'n ': '01010010', 'ue': '01001100', 'an': '10010000', 'te': '01011011', ' a': '11110011', 'ai': '00011000', 'se': '10010100', 'it': '00111101', 'me': '10110100', 'is': '10100110', 'oi': '10111110', 'r ': '01000110', 'er': '00100000', ' m': '10101010', 'ce': '00011100', 'ne': '10011011', 'et': '11111011', 'in': '01101111', 'ns': '11011010', ' n': '01110010', 'ur': '01100001', 'i ': '01100101', 'a ': '00110101', 'eu': '01101010', 'co': '10111111', 'tr': '00111100', 'la': '11110111', 'ar': '10011001', 'ie': '10001101', 'ui': '00101001', 'us': '00000101', 'ut': '11101100', 'il': '01000101', ' t': '01111111', 'pa': '11110001', 'au': '01110111', 'el': '00110111', 'ti': '11100011', 'st': '01010111', 'un': '00101000', 'em': '11001000', 'ra': '01111010', 'e,': '01101001', 'so': '01111001', 'or': '00111000', 'l ': '01001010', ' f': '01111101', 'll': '10000010', 'nd': '11000000', ' j': '00100011', 'si': '11010100', 'ir': '10001011', 'e\\r': '10000100', 'ss': '11100001', 'u ': '00000000', 'po': '10100100', 'ro': '11111100', 'ri': '01100011', 'pr': '00111011', 's,': '01110001', 'ma': '00011111', ' v': '11010000', ' i': '11101111', 'di': '10100000', ' r': '10101110', 'vo': '11010111', 'pe': '00000010', 'to': '01101011', 'ch': '00100101', '. ': '01010011', 've': '10111101', 'nc': '01011111', 'om': '01001101', ' o': '00000111', 'je': '11011110', 'no': '10001111', 'rt': '00010011', 'à ': '01011000', 'lu': '10010111', \"'e\": '10001000', 'mo': '00010110', 'ta': '00100010', 'as': '00010101', 'at': '01011110', 'io': '11110101', 's\\r': '00001001', 'sa': '00111001', \"u'\": '00111110', 'av': '10010110', 'os': '01001011', ' à': '11101110', ' u': '10111010', \"l'\": '10011111', \"'a\": '10000000', 'rs': '01000010', 'pl': '01100000', 'é ': '00010111', '; ': '10001001', 'ho': '10011101', 'té': '01111011', 'ét': '00011101', 'fa': '11110100', 'da': '11101000', 'li': '01000111', 'su': '11000101', 't\\r': '01000100', 'ée': '10000011', 'ré': '11100111', 'dé': '01111000', 'ec': '11100101', 'nn': '11101010', 'mm': '01010001', \"'i\": '00100100', 'ca': '11100100', 'uv': '00011001', '\\n\\r': '10100001', 'id': '11011001', ' b': '10110011', 'ni': '00000001', 'bl': '10110101'}\n"
          ]
        }
      ]
    },
    {
      "cell_type": "markdown",
      "source": [],
      "metadata": {
        "id": "CoY66W_rKBj8"
      }
    },
    {
      "cell_type": "code",
      "source": [
        "\n",
        "\n",
        "def M_vers_symboles(M, K):\n",
        "    encoded_text = []\n",
        "    i = 0\n",
        "\n",
        "    while i < len(M):\n",
        "        # Vérifie les paires de caractères\n",
        "        if i + 1 < len(M):\n",
        "            pair = M[i] + M[i + 1]\n",
        "            if pair in custom_dict:\n",
        "                encoded_text.append(pair)\n",
        "                i += 2  # Sauter les deux caractères utilisés\n",
        "                continue\n",
        "\n",
        "        # Vérifie le caractère seul\n",
        "        if M[i] in K:\n",
        "            encoded_text.append(M[i])\n",
        "        else:\n",
        "            # Conserve le caractère tel quel si non trouvé\n",
        "            encoded_text.append(M[i])\n",
        "        i += 1\n",
        "\n",
        "    return encoded_text\n",
        "\n",
        "def chiffrer(M,K):\n",
        "  l = M_vers_symboles(M, K)\n",
        "  l = [K[x] for x in l]\n",
        "  return ''.join(l)\n",
        "\n",
        "\n",
        "def chiffrer2(M, K) -> str:\n",
        "    \"\"\"\n",
        "    Encode le texte en utilisant un dictionnaire personnalisé.\n",
        "\n",
        "    :param text: Le texte à encoder\n",
        "    :param custom_dict: Le dictionnaire de correspondances\n",
        "    :return: Le texte encodé\n",
        "    \"\"\"\n",
        "    encoded_text = []\n",
        "    i = 0\n",
        "\n",
        "    while i < len(M):\n",
        "        # Vérifie les paires de caractères\n",
        "        if i + 1 < len(M):\n",
        "            pair = M[i] + M[i + 1]\n",
        "            if pair in K:\n",
        "                encoded_text.append(K[pair])\n",
        "                i += 2  # Sauter les deux caractères utilisés\n",
        "                continue\n",
        "\n",
        "        # Vérifie le caractère seul\n",
        "        if M[i] in K:\n",
        "            encoded_text.append(K[M[i]])\n",
        "        else:\n",
        "            # Conserve le caractère tel quel si non trouvé\n",
        "            encoded_text.append(M[i])\n",
        "        i += 1\n",
        "\n",
        "    return ''.join(encoded_text)\n"
      ],
      "metadata": {
        "id": "FwI66qmhCD8x",
        "colab": {
          "base_uri": "https://localhost:8080/"
        },
        "outputId": "db383722-b9f4-46fa-a962-2f37cdf4a3ea"
      },
      "execution_count": null,
      "outputs": [
        {
          "output_type": "stream",
          "name": "stdout",
          "text": [
            "Texte original :\n",
            "es, les na\n",
            "Longeur du message: 10\n",
            "Division en symboles:\n",
            "['e', 's', ',', ' ', 'le', 's', ' ', 'n', 'a']\n",
            "Texte encodé :\n",
            "110101010110110001110100110011110000111001101100110011111100110000001101\n",
            "Longeur du cryptogramme: 72\n"
          ]
        }
      ]
    },
    {
      "cell_type": "code",
      "source": [
        "K = gen_key(symboles)\n",
        "M = corpus[10000:10100]\n",
        "C = chiffrer(M, K)\n",
        "\n",
        "print(\"M =\"+\"\\\"\"+M+\"\\\"\")\n",
        "print(\"\\nLongeur du message M =\",len(M))\n",
        "print(\"\\nDivision en symboles =\", M_vers_symboles(M, K))\n",
        "print(\"\\nNombre de symboles =\", len(M_vers_symboles(M, K)))\n",
        "print(\"\\nC = \"+\"\\\"\"+C+\"\\\"\")\n",
        "print(\"\\nLongeur du cryprogramme C en bits =\",len(C))\n",
        "print(\"\\nLongeur du cryprogramme C en octets =\",len(C)//8)\n"
      ],
      "metadata": {
        "colab": {
          "base_uri": "https://localhost:8080/"
        },
        "id": "Fg26UZwiSz6a",
        "outputId": "6b75d3ab-33e3-400c-bdad-d394fa818999"
      },
      "execution_count": null,
      "outputs": [
        {
          "output_type": "stream",
          "name": "stdout",
          "text": [
            "M =\"es, les nations sur les nations, les vérités sur\r\n",
            "les erreurs, les erreurs sur les vérités. Tout se \"\n",
            "\n",
            "Longeur du message M = 100\n",
            "\n",
            "Division en symboles = ['e', 's', ',', ' ', 'le', 's', ' ', 'n', 'a', 't', 'i', 'o', 'n', 's', ' ', 's', 'ur', ' ', 'le', 's', ' ', 'n', 'a', 't', 'i', 'o', 'n', 's', ',', ' ', 'le', 's', ' ', 'v', 'é', 'r', 'it', 'é', 's', ' ', 's', 'ur', '\\r', '\\n', 'le', 's', ' ', 'er', 're', 'ur', 's', ',', ' ', 'le', 's', ' ', 'er', 're', 'ur', 's', ' ', 's', 'ur', ' ', 'le', 's', ' ', 'v', 'é', 'r', 'it', 'é', 's', '.', ' ', 'T', 'ou', 't', ' ', 's', 'e', ' ']\n",
            "\n",
            "Nombre de symboles = 82\n",
            "\n",
            "C = \"11010101011011000111010011001111000011100110110011001111110011000000110111001010010111010111111011001100011011001100111101101100011000011100111100001110011011001100111111001100000011011100101001011101011111101100110001101100011101001100111100001110011011001100111100111111000100100000011000111101000100100110110011001111011011000110000110010101000011000000111001101100110011110010000011001110011000010110110001110100110011110000111001101100110011110010000011001110011000010110110011001111011011000110000111001111000011100110110011001111001111110001001000000110001111010001001001101100011111001100111101011010001011011100101011001111011011001101010111001111\"\n",
            "\n",
            "Longeur du cryprogramme C en bits = 656\n",
            "\n",
            "Longeur du cryprogramme C en octets = 82\n"
          ]
        }
      ]
    },
    {
      "cell_type": "code",
      "source": [],
      "metadata": {
        "id": "_e_Be93MnU4G"
      },
      "execution_count": null,
      "outputs": []
    }
  ]
}